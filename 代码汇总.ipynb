{
 "cells": [
  {
   "cell_type": "code",
   "execution_count": 4,
   "metadata": {},
   "outputs": [],
   "source": [
    "#导入库+包\n",
    "import re\n",
    "import os\n",
    "import fitz\n",
    "import xlwings as xw\n",
    "from PIL import Image"
   ]
  },
  {
   "cell_type": "code",
   "execution_count": null,
   "metadata": {},
   "outputs": [],
   "source": [
    "#前提设置\n",
    "dimlimit = 600  # each image side must be greater than this\n"
   ]
  },
  {
   "cell_type": "code",
   "execution_count": 5,
   "metadata": {},
   "outputs": [
    {
     "name": "stdout",
     "output_type": "stream",
     "text": [
      "Document('D:\\study\\Python\\jupyter\\ImagesConducted\\NascionActicles\\193217-Kamali-2015-Pressure-induced-phase-transformati.pdf')\n"
     ]
    }
   ],
   "source": [
    "# 打开所需文件\n",
    "path = r\"D:\\study\\Python\\jupyter\\ImagesConducted\\NascionActicles\\253083-gao2016.pdf\" #导入的pdf的路径\n",
    "pic_path = r\"D:\\study\\Python\\jupyter\\ImagesConducted\\images\" #导出图片的文件夹\n",
    "if not os.path.exists(pic_path):\n",
    "    os.mkdir(pic_path)\n",
    "else:\n",
    "    print(\"文件夹已存在，不必重建！\")\n",
    "\n",
    "doc = fitz.open(path) #打开pdf文件\n",
    "lenXREF = doc.xrefLength()-1 #获取对象数量长度\n",
    "print(f\"文件名:{path}, 页数: {doc.pageCount}, 对象: {lenXREF}\") # 打印PDF的信息"
   ]
  },
  {
   "cell_type": "code",
   "execution_count": 6,
   "metadata": {},
   "outputs": [
    {
     "name": "stdout",
     "output_type": "stream",
     "text": [
      "<re.Match object; span=(4995, 5021), match='10.1016/j.jssc.2014.10.017'>\n"
     ]
    }
   ],
   "source": [
    "#从文件中提取doi进入表中并给sheet命名\n",
    "def DOIsearch():\n",
    "    text0=doc[0].getText()\n",
    "#     print(text)\n",
    "#     pat=re.compile(r'^doi',re.I|re.M)\n",
    "#     doi=re.search('DOI|doi',text)\n",
    "#     doimbr=re.match('\\b(10[.][0-9]{4,}*/[A-Z]0036023606080043',text)\n",
    "    doimbr=re.search('10[.][0-9]{4,}/[A-Z,a-z,.,0-9,-,|, ]{,}',text)\n",
    "    sheet.range('A1').value=DOI\n",
    "    sheet.range('B1'.value=doimbr)\n",
    "#     print(doi)\n",
    "#     print(doimbr)\n",
    "    sheet.range('B1').value"
   ]
  },
  {
   "cell_type": "code",
   "execution_count": 2,
   "metadata": {},
   "outputs": [],
   "source": [
    "#从文件中逐页提取图片标签进入表中\n",
    "def FIGsearch1():\n",
    "    line=1\n",
    "    for page in doc:\n",
    "        text=page.getText()\n",
    "    #     print(text)\n",
    "        fig=re.findall('[\\n,\\t]fig\\. [0-9]{1,}\\. .{1,300}\\n',text,re.I|re.S)\n",
    "    #     fig=re.findall('[Figure,[Ff]ig]',text)\n",
    "        for i in fig:\n",
    "            sheet.range('C%s'%(line)).value"
   ]
  },
  {
   "cell_type": "code",
   "execution_count": null,
   "metadata": {},
   "outputs": [],
   "source": [
    "#从文件中逐页提取图片标签及其描述方式进入表中\n",
    "def FIGsearch2():\n",
    "    for i in range(1,line):\n",
    "        for page in doc:\n",
    "            text=page.getText()\n",
    "            fig=re.findall('.{1,200}fig\\. %s.{1,200}\\n'%(i),text,re.I|re.S)\n",
    "            sheet.range('D%s'%(i)).value\n",
    "            continue"
   ]
  },
  {
   "cell_type": "code",
   "execution_count": null,
   "metadata": {},
   "outputs": [],
   "source": [
    "#从文档中提取并过滤图片放入文件夹\n",
    "def extractimages():\n",
    "    checkIM = r\"/Subtype(?= */Image)\" # 使用正则表达式来查找图片\n",
    "#     for i in range(1, lenXREF):\n",
    "#         text = doc.xrefObject(i) # 定义对象字符串       \n",
    "#         isImage = re.search(checkIM, text) # 查看是否是image\n",
    "#         if isImage:\n",
    "#             print(i)\n",
    "    imgcount = 0  # 图片计数\n",
    "    for i in range(1, lenXREF):\n",
    "        text = doc.xrefObject(i) # 定义对象字符串       \n",
    "        isImage = re.search(checkIM, text) # 查看是否是image\n",
    "        if not isImage: # 如果不是图片，则进行下一个判断\n",
    "            continue \n",
    "\n",
    "        pix = fitz.Pixmap(doc, i) # 生成图像对象    \n",
    "        print(pix)\n",
    "\n",
    "        if min(pix.width, pix.height) <= dimlimit:  # rectangle edges too small\n",
    "    #         print(\"CCC\")\n",
    "            continue\n",
    "\n",
    "    #     imgdata = imgdict[\"image\"]  # image data\n",
    "    #     l_imgdata = len(imgdata)  # length of data\n",
    "    #     if l_imgdata <= abssize:  # image too small to be relevant\n",
    "    #         continue\n",
    "        try:\n",
    "            if pix.n<5:\n",
    "                imgcount += 1 #图片计数\n",
    "                new_name = f\"图片{imgcount}.png\" # 生成图片的名称\n",
    "                pix.writePNG(os.path.join(pic_path, new_name))\n",
    "                print(new_name)\n",
    "                pix = None\n",
    "            else:\n",
    "                imgcount += 1 #图片计数\n",
    "                pixno = fitz.Pixmap(fitz.csRGB, pix) \n",
    "                new_name = f\"图片{imgcount}.png\" # 生成图片的名称\n",
    "                pixno.writePNG(os.path.join(pic_path, new_name))\n",
    "                print(new_name)\n",
    "                pixno = None\n",
    "        except RuntimeError:\n",
    "            #异常处理，跳过错误段继续提取之后的图片\n",
    "            print(\"Error:extract image fail\")\n",
    "            os.remove(os.path.join(pic_path, new_name))\n",
    "            imgcount-=1\n",
    "            continue\n",
    "\n",
    "\n",
    "#     for i in range(len(doc)):\n",
    "#         for img in doc.getPageImageList(i):\n",
    "#         #识别并获取文献中的图片对象\n",
    "#             try:\n",
    "#                 xref=img[0]\n",
    "#                 pix=fitz.Pixmap(doc,xref)\n",
    "#                 if pix.n <5:\n",
    "#                     pix.writePNG(os.path.join(picPath,\"%s%s Page NO.%s.png\"%(picName,i,num)))\n",
    "#                     #将图片存储为PNG格式\n",
    "#                     num+=1\n",
    "#                     pix=None\n",
    "#                 else:\n",
    "#                     pixno = fitz.Pixmap(fitz.csRGB, pix) \n",
    "#                     #若非RGB图片，首先转换为RBG图片再作PNG格式保存\n",
    "#                     pixno.writePNG(os.path.join(picPath,\"%s%s Page NO.%s.png\"%(picName,i,num)))\n",
    "#                     num+=1\n",
    "#                     pixno=None\n",
    "#                     #清空当前图形对象\n",
    "#             except RuntimeError:\n",
    "#             #异常处理，跳过错误段继续提取之后的图片\n",
    "#                 print(\"Error:extract image fail when dealing with {}\".format(picName))\n",
    "#                 continue"
   ]
  },
  {
   "cell_type": "code",
   "execution_count": null,
   "metadata": {},
   "outputs": [],
   "source": [
    "#将图片放入到sheet中\n",
    "def add_center(sht, target, filePath, match=False, width=None, height=None, column_width=None, row_height=None):\n",
    "    '''Excel智能居中插入图片\n",
    "\n",
    "    优先级：match > width & height > column_width & row_height\n",
    "    建议使用column_width或row_height，定义单元格最大宽或高\n",
    "\n",
    "    :param sht: 工作表\n",
    "    :param target: 目标单元格，字符串，如'A1'\n",
    "    :param filePath: 图片绝对路径\n",
    "    :param width: 图片宽度\n",
    "    :param height: 图片高度\n",
    "    :param column_width: 单元格最大宽度，默认100像素，0 <= column_width <= 1557.285\n",
    "    :param row_height: 单元格最大高度，默认75像素，0 <= row_height <= 409.5\n",
    "    :param match: 绝对匹配原图宽高，最大宽度1557.285，最大高度409.5\n",
    "    '''\n",
    "    unit_width = 6.107  # Excel默认列宽与像素的比\n",
    "    rng = sht.range(target)  # 目标单元格\n",
    "    name = os.path.basename(filePath)  # 文件名\n",
    "    _width, _height = Image.open(filePath).size  # 原图片宽高\n",
    "    NOT_SET = True  # 未设置单元格宽高\n",
    "    # match\n",
    "    if match:  # 绝对匹配图像\n",
    "        width, height = _width, _height\n",
    "    else:  # 不绝对匹配图像\n",
    "        # width & height\n",
    "        if width or height:\n",
    "            if not height:  # 指定了宽，等比计算高\n",
    "                height = width / _width * _height\n",
    "            if not width:  # 指定了高，等比计算宽\n",
    "                width = height / _height * _width\n",
    "        else:\n",
    "            # column_width & row_height\n",
    "            if column_width and row_height:  # 同时指定单元格最大宽高\n",
    "                width = row_height / _height * _width  # 根据单元格最大高度假设宽\n",
    "                height = column_width / _width * _height  # 根据单元格最大宽度假设高\n",
    "                area_width = column_width * height  # 假设宽优先的面积\n",
    "                area_height = row_height * width  # 假设高优先的面积\n",
    "                if area_width > area_height:\n",
    "                    width = column_width\n",
    "                else:\n",
    "                    height = row_height\n",
    "            elif not column_width and not row_height:  # 均无指定单元格最大宽高\n",
    "                column_width = 100\n",
    "                row_height = 75\n",
    "                rng.column_width = column_width / unit_width  # 更新当前宽度\n",
    "                rng.row_height = row_height  # 更新当前高度\n",
    "                NOT_SET = False\n",
    "                width = row_height / _height * _width  # 根据单元格最大高度假设宽\n",
    "                height = column_width / _width * _height  # 根据单元格最大宽度假设高\n",
    "                area_width = column_width * height  # 假设宽优先的面积\n",
    "                area_height = row_height * width  # 假设高优先的面积\n",
    "                if area_width > area_height:\n",
    "                    height = row_height\n",
    "                else:\n",
    "                    width = column_width\n",
    "            else:\n",
    "                width = row_height / _height * _width if row_height else column_width  # 仅设了单元格最大宽度\n",
    "                height = column_width / _width * _height if column_width else row_height  # 仅设了单元格最大高度\n",
    "    assert 0 <= width / unit_width <= 255\n",
    "    assert 0 <= height <= 409.5\n",
    "    if NOT_SET:\n",
    "        rng.column_width = width / unit_width  # 更新当前宽度\n",
    "        rng.row_height = height  # 更新当前高度\n",
    "    left = rng.left + (rng.width - width) / 2  # 居中\n",
    "    top = rng.top + (rng.height - height) / 2\n",
    "    try:\n",
    "        sht.pictures.add(filePath, left=left, top=top, width=width, height=height, scale=None, name=name)\n",
    "    except Exception:  # 已有同名图片，采用默认命名\n",
    "        pass"
   ]
  },
  {
   "cell_type": "code",
   "execution_count": null,
   "metadata": {},
   "outputs": [],
   "source": []
  },
  {
   "cell_type": "code",
   "execution_count": null,
   "metadata": {},
   "outputs": [],
   "source": []
  }
 ],
 "metadata": {
  "kernelspec": {
   "display_name": "Python 3",
   "language": "python",
   "name": "python3"
  },
  "language_info": {
   "codemirror_mode": {
    "name": "ipython",
    "version": 3
   },
   "file_extension": ".py",
   "mimetype": "text/x-python",
   "name": "python",
   "nbconvert_exporter": "python",
   "pygments_lexer": "ipython3",
   "version": "3.8.5"
  }
 },
 "nbformat": 4,
 "nbformat_minor": 4
}
